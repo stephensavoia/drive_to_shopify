{
 "cells": [
  {
   "attachments": {},
   "cell_type": "markdown",
   "metadata": {},
   "source": [
    "# Bulk Upload Product Images from Google Drive to Shopify\n",
    "\n",
    "![picture](drive-to-shopify.jpg)\n",
    "\n",
    "\n",
    "### OBJECTIVE:\n",
    "\n",
    "The following code allows Shopify store owners to bulk upload product images from a Google Drive folder to a Shopify store, via Shopify's \"import products by CSV\" feature.\n",
    "\n",
    "\n",
    "### STEPS:\n",
    "\n",
    "   * [1. Preparation](#1)\n",
    "   * [2. Get Data from Google Drive](#2)\n",
    "   * [3. Add Google Drive Image Data to Shopify Product CSV](#3)\n",
    "   * [4. Export New Shopify Product CSV](#4)\n",
    "\n",
    "\n",
    "### ACKNOWLEDGEMENTS:\n",
    "\n",
    "Thanks to: [Jie Jenn](https://www.youtube.com/watch?v=kFR-O8BHIH4), [NeuralNine](https://www.youtube.com/watch?v=fkWM7A-MxR0), [alicia_mb](https://www.freepik.com/free-vector/hand-drawn-arrow-set_15961277.htm#query=hand%20drawn%20arrow&position=0&from_view=keyword&track=ais)"
   ]
  },
  {
   "attachments": {},
   "cell_type": "markdown",
   "metadata": {},
   "source": [
    "### 1. PREPARATION<a class=\"anchor\" id=\"1\"></a>"
   ]
  },
  {
   "attachments": {},
   "cell_type": "markdown",
   "metadata": {},
   "source": [
    "There are several steps that must be completed before running the code in this .ipynb file.\n",
    "\n",
    "*1. Create a Shopify product .csv file*  \n",
    "  \n",
    "A detailed description of how to create a properly formatted Shopify product .csv file can be found [here](https://help.shopify.com/en/manual/products/import-export/using-csv). The product .csv file must be called shopify-products.csv, and must be located in the same directory as this .ipynb file. The product .csv file's \"Image Src\" column may be empty, or contain data—both options are fine. If there is existing \"Image Src\" data, it will be overwritten.\n",
    "\n",
    "*2. Upload product images to Google Drive*  \n",
    "\n",
    "Upload all product images to Google Drive folder. The folder must be a shared folder that is viewable to \"anyone with the link\". All product images must have a name that matches the Shopify handle of that product. If a certain product has multiple images, the first image should be named after the product's Shopify handle, and the other images should include the suffix \"-image[number]\". For example:  \n",
    "| Image Description | Shopify Handle | Image File Name |\n",
    "| --- | --- | --- |\n",
    "| the product's primary image | running-shoes | running-shoes.jpg |\n",
    "| another image of the same product | running-shoes | running-shoes-image2.jpg |\n",
    "| a third image of the same product | running-shoes | running-shoes-image3.jpg |\n",
    "\n",
    "Images may be of any file type supported by Shopify.\n",
    "\n",
    "*3. Connect to the Google Drive API*  \n",
    "\n",
    "A detailed description of how to connect to the Google Drive API can be found [here](https://developers.google.com/drive/api/quickstart/python). A video walkthrough of this process can be found [here](https://www.youtube.com/watch?v=fkWM7A-MxR0). Once the credentials file is downloaded, it must be named credentials.json and added to the same directory as this .ipynb file.\n",
    "\n",
    "*4. Install all necessary Python packages*  \n",
    "\n",
    "google-api-python-client  \n",
    "google-auth-httplib2  \n",
    "google-auth-oauthlib  \n",
    "\n",
    "A description of how to install these packages can be found [here](https://developers.google.com/drive/api/quickstart/python). A video walkthrough can be found [here](https://www.youtube.com/watch?v=fkWM7A-MxR0).\n"
   ]
  },
  {
   "attachments": {},
   "cell_type": "markdown",
   "metadata": {},
   "source": [
    "### 2. GET DATA FROM GOOGLE DRIVE<a class=\"anchor\" id=\"1\"></a>"
   ]
  },
  {
   "attachments": {},
   "cell_type": "markdown",
   "metadata": {},
   "source": [
    "Once all of the preparation is complete, there should be 3 files in the current working directory: this .ipynb file, shopify-products.csv, and credentials.json. There should also be a folder on Google Drive containing the product images.  \n",
    "  \n",
    "The only variable in the following code that needs to be set is the Google Drive folder id. This can be copied from the web browser's address bar, after opening the Google Drive folder. The folder id is what comes after \"folders/\" in the URL."
   ]
  },
  {
   "cell_type": "code",
   "execution_count": null,
   "metadata": {},
   "outputs": [],
   "source": [
    "# Folder id (taken from URL, after opening folder in browser)\n",
    "folder_id = "
   ]
  },
  {
   "cell_type": "code",
   "execution_count": null,
   "metadata": {},
   "outputs": [],
   "source": [
    "# Import libraries\n",
    "from __future__ import print_function\n",
    "\n",
    "import os.path\n",
    "\n",
    "from google.auth.transport.requests import Request\n",
    "from google.oauth2.credentials import Credentials\n",
    "from google_auth_oauthlib.flow import InstalledAppFlow\n",
    "from googleapiclient.discovery import build\n",
    "from googleapiclient.errors import HttpError\n",
    "\n",
    "import pandas as pd"
   ]
  },
  {
   "cell_type": "code",
   "execution_count": null,
   "metadata": {},
   "outputs": [],
   "source": [
    "# Create Drive API access token (this step can be skipped if you alread have an access token)\n",
    "# Code was copied from: https://developers.google.com/drive/api/quickstart/python\n",
    "\n",
    "# If modifying these scopes, delete the file token.json.\n",
    "SCOPES = ['https://www.googleapis.com/auth/drive.metadata.readonly']\n",
    "\n",
    "\n",
    "def main():\n",
    "    \"\"\"Shows basic usage of the Drive v3 API.\n",
    "    Prints the names and ids of the first 10 files the user has access to.\n",
    "    \"\"\"\n",
    "    creds = None\n",
    "    # The file token.json stores the user's access and refresh tokens, and is\n",
    "    # created automatically when the authorization flow completes for the first\n",
    "    # time.\n",
    "    if os.path.exists('token.json'):\n",
    "        creds = Credentials.from_authorized_user_file('token.json', SCOPES)\n",
    "    # If there are no (valid) credentials available, let the user log in.\n",
    "    if not creds or not creds.valid:\n",
    "        if creds and creds.expired and creds.refresh_token:\n",
    "            creds.refresh(Request())\n",
    "        else:\n",
    "            flow = InstalledAppFlow.from_client_secrets_file(\n",
    "                'credentials.json', SCOPES)\n",
    "            creds = flow.run_local_server(port=0)\n",
    "        # Save the credentials for the next run\n",
    "        with open('token.json', 'w') as token:\n",
    "            token.write(creds.to_json())\n",
    "\n",
    "    try:\n",
    "        service = build('drive', 'v3', credentials=creds)\n",
    "\n",
    "        # Call the Drive v3 API\n",
    "        results = service.files().list(\n",
    "            pageSize=10, fields=\"nextPageToken, files(id, name)\").execute()\n",
    "        items = results.get('files', [])\n",
    "\n",
    "        if not items:\n",
    "            print('No files found.')\n",
    "            return\n",
    "        print('Files:')\n",
    "        for item in items:\n",
    "            print(u'{0} ({1})'.format(item['name'], item['id']))\n",
    "    except HttpError as error:\n",
    "        # TODO(developer) - Handle errors from drive API.\n",
    "        print(f'An error occurred: {error}')\n",
    "\n",
    "\n",
    "if __name__ == '__main__':\n",
    "    main()"
   ]
  },
  {
   "cell_type": "code",
   "execution_count": null,
   "metadata": {},
   "outputs": [],
   "source": [
    "# Create service instance\n",
    "SCOPES = ['https://www.googleapis.com/auth/drive.metadata.readonly']\n",
    "creds = Credentials.from_authorized_user_file('token.json', SCOPES)\n",
    "service = build('drive', 'v3', credentials=creds)\n",
    "\n",
    "# Folder id (taken from URL, after opening folder in browser)\n",
    "# folder_id = '' <----- This was set above, instead\n",
    "query = \"parents = '{}'\".format(folder_id)\n",
    "\n",
    "# Get file information for all files in the folder\n",
    "response = service.files().list(q=query).execute()\n",
    "files = response.get('files')\n",
    "nextPageToken = response.get('nextPageToken')\n",
    "\n",
    "while nextPageToken:\n",
    "    response = service.files().list(q=query, pageToken=nextPageToken).execute()\n",
    "    files = response.get('files')\n",
    "    nextPageToken = response.get('nextPageToken')\n",
    "\n",
    "# Save data to a Pandas DataFrame\n",
    "drive_data = pd.DataFrame(files)"
   ]
  },
  {
   "attachments": {},
   "cell_type": "markdown",
   "metadata": {},
   "source": [
    "### 3. ADD GOOGLE DRIVE DATA TO SHOPIFY PRODUCT CSV<a class=\"anchor\" id=\"3\"></a>"
   ]
  },
  {
   "cell_type": "code",
   "execution_count": null,
   "metadata": {},
   "outputs": [],
   "source": [
    "# Keep only necessary columns from Google Drive data\n",
    "drive_data = drive_data[['id', 'name']]\n",
    "\n",
    "# Remove file extension from image name\n",
    "drive_data['name'] = drive_data['name'].str.rsplit('.', n=1).str[0]\n",
    "\n",
    "# Change id column into a URL to that file that Shopify can use\n",
    "drive_data['id'] = \"https://docs.google.com/uc?export=download&confirm=no_antivirus&id=\" + drive_data['id']\n",
    "\n",
    "# Filter out extra images (i.e. the 2nd, 3rd, etc. images of each product)\n",
    "mask = drive_data['name'].str.match(r'(?i)^((.|\\n)*)-image((.|\\n)*)$', na=False)\n",
    "extra_images = drive_data[mask]\n",
    "drive_data = drive_data[~mask]\n",
    "\n",
    "# Import Shopify data\n",
    "shopify_data = pd.read_csv('shopify-products.csv')\n",
    "\n",
    "# Merge Shopify data with Drive data\n",
    "data = pd.merge(shopify_data, drive_data, how='left', left_on='Handle', right_on='name')\n",
    "\n",
    "# Update \"Image Src\"\n",
    "data.loc[data['id'].notnull(), 'Image Src'] = data['id']\n",
    "\n",
    "# Drop extra columns\n",
    "data = data.drop(columns=['id', 'name'])\n",
    "\n",
    "# Make separate columns for handles and image-number suffixes\n",
    "extra_images['handle'] = extra_images['name'].str.rsplit('-image', n=1).str[0]\n",
    "extra_images['number'] = extra_images['name'].str.rsplit('-image', n=1).str[1].astype(int)\n",
    "\n",
    "# Put extra images in order\n",
    "extra_images = extra_images.sort_values(['handle', 'number']).reset_index(drop=True)\n",
    "\n",
    "# Create data frame with the same columns as a Shopify product .csv file\n",
    "extra_images_formatted = pd.DataFrame(columns=data.columns)\n",
    "extra_images_formatted['Handle'] = extra_images['handle']\n",
    "extra_images_formatted['Image Src'] = extra_images['id']\n",
    "\n",
    "# Slice and concatenate data frame, to insert extra images\n",
    "for i in range(0, len(extra_images_formatted)):\n",
    "    line_to_concat = extra_images_formatted[extra_images_formatted.index == i]\n",
    "    handle_to_concat = extra_images_formatted.at[i, 'Handle']\n",
    "    index_to_concat_at = data['Handle'].where(data['Handle'] == handle_to_concat).last_valid_index()\n",
    "    data = pd.concat([data.iloc[:index_to_concat_at + 1],\n",
    "               line_to_concat,\n",
    "               data.iloc[index_to_concat_at + 1:]]).reset_index(drop=True)"
   ]
  },
  {
   "attachments": {},
   "cell_type": "markdown",
   "metadata": {},
   "source": [
    "### 4. EXPORT NEW SHOPIFY PRODUCT CSV<a class=\"anchor\" id=\"4\"></a>"
   ]
  },
  {
   "cell_type": "code",
   "execution_count": null,
   "metadata": {},
   "outputs": [],
   "source": [
    "# Export product data\n",
    "data.to_csv('shopify-products-new.csv', index=False)"
   ]
  }
 ],
 "metadata": {
  "language_info": {
   "name": "python"
  },
  "orig_nbformat": 4
 },
 "nbformat": 4,
 "nbformat_minor": 2
}
